{
 "cells": [
  {
   "cell_type": "code",
   "execution_count": 1,
   "id": "7154b36c",
   "metadata": {},
   "outputs": [],
   "source": [
    "from astropy.io import fits\n",
    "from astropy.table import Table\n",
    "import pandas as pd\n",
    "import numpy as np\n",
    "import matplotlib.pyplot as plt"
   ]
  },
  {
   "cell_type": "code",
   "execution_count": 2,
   "id": "9543840d",
   "metadata": {},
   "outputs": [],
   "source": [
    "fname1 = \"electron_30deg_50wob_NOISE120.mscw.fits\"\n",
    "with fits.open(fname1) as hdul:\n",
    "   df1 = Table.read(hdul[1]).to_pandas()\n",
    "\n",
    "fname2 = \"protons_30deg_5.0wob_NOISE120.mscw.fits\"\n",
    "with fits.open(fname2) as hdul:\n",
    "   df2 = Table.read(hdul[1]).to_pandas()"
   ]
  },
  {
   "cell_type": "code",
   "execution_count": 3,
   "id": "71c02b20",
   "metadata": {},
   "outputs": [],
   "source": [
    "electron = df1.copy()\n",
    "gamma = electron.iloc[:,:]  # electron and gamma shower identical after first interaction\n",
    "proton = df2.copy()\n",
    "hadron = proton.iloc[:,:]  # proton is hadron\n",
    "#gamma.info()"
   ]
  },
  {
   "cell_type": "code",
   "execution_count": 4,
   "id": "168e0ba4",
   "metadata": {},
   "outputs": [],
   "source": [
    "gamma['class'] = 1  # postive class\n",
    "hadron['class'] = 0  # negative class"
   ]
  },
  {
   "cell_type": "code",
   "execution_count": 5,
   "id": "2259751a",
   "metadata": {},
   "outputs": [
    {
     "data": {
      "text/plain": [
       "(466422, 60)"
      ]
     },
     "execution_count": 5,
     "metadata": {},
     "output_type": "execute_result"
    }
   ],
   "source": [
    "gamma.shape"
   ]
  },
  {
   "cell_type": "code",
   "execution_count": 6,
   "id": "7e9c9973",
   "metadata": {},
   "outputs": [
    {
     "data": {
      "text/plain": [
       "(466422, 60)"
      ]
     },
     "execution_count": 6,
     "metadata": {},
     "output_type": "execute_result"
    }
   ],
   "source": [
    "hadron = hadron.iloc[:466422,:]\n",
    "hadron.shape"
   ]
  },
  {
   "cell_type": "code",
   "execution_count": 7,
   "id": "ba413bc8",
   "metadata": {},
   "outputs": [
    {
     "data": {
      "text/plain": [
       "(932844, 60)"
      ]
     },
     "execution_count": 7,
     "metadata": {},
     "output_type": "execute_result"
    }
   ],
   "source": [
    "particles = pd.concat([gamma, hadron], ignore_index=True)\n",
    "\n",
    "#particles = gamma.append(hadron)  # combining datasets\n",
    "particles.shape"
   ]
  },
  {
   "cell_type": "code",
   "execution_count": 306,
   "id": "438c68a4",
   "metadata": {},
   "outputs": [],
   "source": [
    "X = particles[['MSCW', 'MSCL', 'EChi2S', 'EmissionHeight', \n",
    "                  'EmissionHeightChi2', 'SizeSecondMax', \n",
    "                  'Core', 'dES']]\n",
    "col = X\n",
    "y = particles['class']"
   ]
  },
  {
   "cell_type": "code",
   "execution_count": 307,
   "id": "bbb9e313",
   "metadata": {},
   "outputs": [],
   "source": [
    "from sklearn.model_selection import train_test_split\n",
    "from sklearn.preprocessing import StandardScaler"
   ]
  },
  {
   "cell_type": "code",
   "execution_count": 308,
   "id": "6f04305a",
   "metadata": {},
   "outputs": [],
   "source": [
    "scaler = StandardScaler()\n",
    "X = scaler.fit_transform(X)"
   ]
  },
  {
   "cell_type": "code",
   "execution_count": 309,
   "id": "228a77c8",
   "metadata": {},
   "outputs": [
    {
     "data": {
      "text/plain": [
       "((279911,), (279795,))"
      ]
     },
     "execution_count": 309,
     "metadata": {},
     "output_type": "execute_result"
    }
   ],
   "source": [
    "X_train, X_test, y_train, y_test = train_test_split(X, y, test_size=0.4, random_state=42)\n",
    "y_train[y_train == 1].shape, y_train[y_train == 0].shape"
   ]
  },
  {
   "cell_type": "code",
   "execution_count": 310,
   "id": "4ca3dfa0",
   "metadata": {},
   "outputs": [],
   "source": [
    "import xgboost as xgb\n",
    "import scipy.stats as sc\n",
    "from sklearn.model_selection import KFold\n",
    "\n",
    "from sklearn.metrics import roc_curve, roc_auc_score, auc, accuracy_score\n",
    "from sklearn.model_selection import RandomizedSearchCV"
   ]
  },
  {
   "cell_type": "code",
   "execution_count": 311,
   "id": "6222efef",
   "metadata": {},
   "outputs": [],
   "source": [
    "# xgb_clf = xgb.XGBClassifier(objective = 'binary:logistic')"
   ]
  },
  {
   "cell_type": "code",
   "execution_count": 312,
   "id": "69dd26f1",
   "metadata": {},
   "outputs": [],
   "source": [
    "# params = {'n_estimators': [100,200,400,500,800],\n",
    "#               'learning_rate': [0.01, 0.03, 0.1, 0.3, 0.5],\n",
    "#               'subsample': sc.uniform(0.3, 0.6),\n",
    "#               'max_depth': [3, 4, 5, 6, 7, 8],\n",
    "#               'colsample_bytree': sc.uniform(0.5, 0.4),\n",
    "#               'min_child_weight': [1, 2, 3, 4]\n",
    "#              }"
   ]
  },
  {
   "cell_type": "code",
   "execution_count": 313,
   "id": "1f297228-daca-4d20-9b20-3874a1ba9078",
   "metadata": {},
   "outputs": [],
   "source": [
    "# kfold_5 = KFold(5, shuffle = True, random_state = 42)"
   ]
  },
  {
   "cell_type": "code",
   "execution_count": 314,
   "id": "7758d53d",
   "metadata": {},
   "outputs": [],
   "source": [
    "# bdt=RandomizedSearchCV(xgb_clf,param_distributions=params,n_iter=5,scoring='roc_auc',n_jobs=-1,cv=kfold_5,verbose=3,random_state=42)"
   ]
  },
  {
   "cell_type": "code",
   "execution_count": 315,
   "id": "1a2651e9",
   "metadata": {},
   "outputs": [],
   "source": [
    "# bdt.fit(X_train, y_train)"
   ]
  },
  {
   "cell_type": "code",
   "execution_count": 622,
   "id": "527acc44-f896-45db-ae09-fdea03cd4742",
   "metadata": {},
   "outputs": [],
   "source": [
    "clf = xgb.XGBClassifier(n_estimators = 500, \n",
    "                        learning_rate=0.1, \n",
    "                        max_depth=6,\n",
    "                        min_split_loss = 1,\n",
    "                        min_child_weight = 3,\n",
    "                        objective = 'binary:logistic',\n",
    "                        colsample_bytree = 0.7,\n",
    "                        subsample = 0.6,\n",
    "                        random_state = 42)"
   ]
  },
  {
   "cell_type": "code",
   "execution_count": 623,
   "id": "1ffe4545-fe4e-4451-8b26-0b0470a306a1",
   "metadata": {
    "scrolled": true
   },
   "outputs": [
    {
     "name": "stderr",
     "output_type": "stream",
     "text": [
      "/home/marynaskew/VHEfun/VHEenv/lib/python3.10/site-packages/xgboost/sklearn.py:835: UserWarning: `eval_metric` in `fit` method is deprecated for better compatibility with scikit-learn, use `eval_metric` in constructor or`set_params` instead.\n",
      "  warnings.warn(\n",
      "/home/marynaskew/VHEfun/VHEenv/lib/python3.10/site-packages/xgboost/sklearn.py:835: UserWarning: `early_stopping_rounds` in `fit` method is deprecated for better compatibility with scikit-learn, use `early_stopping_rounds` in constructor or`set_params` instead.\n",
      "  warnings.warn(\n"
     ]
    },
    {
     "name": "stdout",
     "output_type": "stream",
     "text": [
      "[0]\tvalidation_0-error:0.20941\n",
      "[1]\tvalidation_0-error:0.15675\n",
      "[2]\tvalidation_0-error:0.14752\n",
      "[3]\tvalidation_0-error:0.14721\n",
      "[4]\tvalidation_0-error:0.14325\n",
      "[5]\tvalidation_0-error:0.14167\n",
      "[6]\tvalidation_0-error:0.14241\n",
      "[7]\tvalidation_0-error:0.14167\n",
      "[8]\tvalidation_0-error:0.14062\n",
      "[9]\tvalidation_0-error:0.13733\n",
      "[10]\tvalidation_0-error:0.13646\n",
      "[11]\tvalidation_0-error:0.13546\n",
      "[12]\tvalidation_0-error:0.13452\n",
      "[13]\tvalidation_0-error:0.13446\n",
      "[14]\tvalidation_0-error:0.13398\n",
      "[15]\tvalidation_0-error:0.13389\n",
      "[16]\tvalidation_0-error:0.13333\n",
      "[17]\tvalidation_0-error:0.13320\n",
      "[18]\tvalidation_0-error:0.13287\n",
      "[19]\tvalidation_0-error:0.13244\n",
      "[20]\tvalidation_0-error:0.13225\n",
      "[21]\tvalidation_0-error:0.13203\n",
      "[22]\tvalidation_0-error:0.13178\n",
      "[23]\tvalidation_0-error:0.13162\n",
      "[24]\tvalidation_0-error:0.13165\n",
      "[25]\tvalidation_0-error:0.13106\n",
      "[26]\tvalidation_0-error:0.13081\n",
      "[27]\tvalidation_0-error:0.13080\n",
      "[28]\tvalidation_0-error:0.13079\n",
      "[29]\tvalidation_0-error:0.13058\n",
      "[30]\tvalidation_0-error:0.13041\n",
      "[31]\tvalidation_0-error:0.13038\n",
      "[32]\tvalidation_0-error:0.13012\n",
      "[33]\tvalidation_0-error:0.12989\n",
      "[34]\tvalidation_0-error:0.12979\n",
      "[35]\tvalidation_0-error:0.12963\n",
      "[36]\tvalidation_0-error:0.12952\n",
      "[37]\tvalidation_0-error:0.12932\n",
      "[38]\tvalidation_0-error:0.12911\n",
      "[39]\tvalidation_0-error:0.12900\n",
      "[40]\tvalidation_0-error:0.12876\n",
      "[41]\tvalidation_0-error:0.12861\n",
      "[42]\tvalidation_0-error:0.12846\n",
      "[43]\tvalidation_0-error:0.12841\n",
      "[44]\tvalidation_0-error:0.12831\n",
      "[45]\tvalidation_0-error:0.12824\n",
      "[46]\tvalidation_0-error:0.12828\n",
      "[47]\tvalidation_0-error:0.12808\n",
      "[48]\tvalidation_0-error:0.12807\n",
      "[49]\tvalidation_0-error:0.12796\n",
      "[50]\tvalidation_0-error:0.12792\n",
      "[51]\tvalidation_0-error:0.12783\n",
      "[52]\tvalidation_0-error:0.12770\n",
      "[53]\tvalidation_0-error:0.12760\n",
      "[54]\tvalidation_0-error:0.12763\n",
      "[55]\tvalidation_0-error:0.12758\n",
      "[56]\tvalidation_0-error:0.12755\n",
      "[57]\tvalidation_0-error:0.12754\n",
      "[58]\tvalidation_0-error:0.12752\n",
      "[59]\tvalidation_0-error:0.12747\n",
      "[60]\tvalidation_0-error:0.12748\n",
      "[61]\tvalidation_0-error:0.12730\n",
      "[62]\tvalidation_0-error:0.12728\n",
      "[63]\tvalidation_0-error:0.12732\n",
      "[64]\tvalidation_0-error:0.12730\n",
      "[65]\tvalidation_0-error:0.12725\n",
      "[66]\tvalidation_0-error:0.12720\n",
      "[67]\tvalidation_0-error:0.12712\n",
      "[68]\tvalidation_0-error:0.12708\n",
      "[69]\tvalidation_0-error:0.12710\n",
      "[70]\tvalidation_0-error:0.12697\n",
      "[71]\tvalidation_0-error:0.12692\n",
      "[72]\tvalidation_0-error:0.12679\n",
      "[73]\tvalidation_0-error:0.12673\n",
      "[74]\tvalidation_0-error:0.12670\n",
      "[75]\tvalidation_0-error:0.12669\n",
      "[76]\tvalidation_0-error:0.12670\n",
      "[77]\tvalidation_0-error:0.12662\n",
      "[78]\tvalidation_0-error:0.12659\n",
      "[79]\tvalidation_0-error:0.12656\n",
      "[80]\tvalidation_0-error:0.12649\n",
      "[81]\tvalidation_0-error:0.12654\n",
      "[82]\tvalidation_0-error:0.12651\n",
      "[83]\tvalidation_0-error:0.12648\n",
      "[84]\tvalidation_0-error:0.12647\n",
      "[85]\tvalidation_0-error:0.12646\n",
      "[86]\tvalidation_0-error:0.12639\n",
      "[87]\tvalidation_0-error:0.12644\n",
      "[88]\tvalidation_0-error:0.12632\n",
      "[89]\tvalidation_0-error:0.12631\n",
      "[90]\tvalidation_0-error:0.12628\n",
      "[91]\tvalidation_0-error:0.12630\n",
      "[92]\tvalidation_0-error:0.12633\n",
      "[93]\tvalidation_0-error:0.12630\n",
      "[94]\tvalidation_0-error:0.12623\n",
      "[95]\tvalidation_0-error:0.12622\n",
      "[96]\tvalidation_0-error:0.12619\n",
      "[97]\tvalidation_0-error:0.12625\n",
      "[98]\tvalidation_0-error:0.12617\n",
      "[99]\tvalidation_0-error:0.12610\n",
      "[100]\tvalidation_0-error:0.12607\n",
      "[101]\tvalidation_0-error:0.12604\n",
      "[102]\tvalidation_0-error:0.12600\n",
      "[103]\tvalidation_0-error:0.12595\n",
      "[104]\tvalidation_0-error:0.12593\n",
      "[105]\tvalidation_0-error:0.12593\n",
      "[106]\tvalidation_0-error:0.12590\n",
      "[107]\tvalidation_0-error:0.12584\n",
      "[108]\tvalidation_0-error:0.12585\n",
      "[109]\tvalidation_0-error:0.12584\n",
      "[110]\tvalidation_0-error:0.12578\n",
      "[111]\tvalidation_0-error:0.12579\n",
      "[112]\tvalidation_0-error:0.12574\n",
      "[113]\tvalidation_0-error:0.12580\n",
      "[114]\tvalidation_0-error:0.12574\n",
      "[115]\tvalidation_0-error:0.12573\n",
      "[116]\tvalidation_0-error:0.12571\n",
      "[117]\tvalidation_0-error:0.12568\n",
      "[118]\tvalidation_0-error:0.12572\n",
      "[119]\tvalidation_0-error:0.12573\n",
      "[120]\tvalidation_0-error:0.12572\n",
      "[121]\tvalidation_0-error:0.12573\n"
     ]
    },
    {
     "data": {
      "text/html": [
       "<style>#sk-container-id-39 {color: black;}#sk-container-id-39 pre{padding: 0;}#sk-container-id-39 div.sk-toggleable {background-color: white;}#sk-container-id-39 label.sk-toggleable__label {cursor: pointer;display: block;width: 100%;margin-bottom: 0;padding: 0.3em;box-sizing: border-box;text-align: center;}#sk-container-id-39 label.sk-toggleable__label-arrow:before {content: \"▸\";float: left;margin-right: 0.25em;color: #696969;}#sk-container-id-39 label.sk-toggleable__label-arrow:hover:before {color: black;}#sk-container-id-39 div.sk-estimator:hover label.sk-toggleable__label-arrow:before {color: black;}#sk-container-id-39 div.sk-toggleable__content {max-height: 0;max-width: 0;overflow: hidden;text-align: left;background-color: #f0f8ff;}#sk-container-id-39 div.sk-toggleable__content pre {margin: 0.2em;color: black;border-radius: 0.25em;background-color: #f0f8ff;}#sk-container-id-39 input.sk-toggleable__control:checked~div.sk-toggleable__content {max-height: 200px;max-width: 100%;overflow: auto;}#sk-container-id-39 input.sk-toggleable__control:checked~label.sk-toggleable__label-arrow:before {content: \"▾\";}#sk-container-id-39 div.sk-estimator input.sk-toggleable__control:checked~label.sk-toggleable__label {background-color: #d4ebff;}#sk-container-id-39 div.sk-label input.sk-toggleable__control:checked~label.sk-toggleable__label {background-color: #d4ebff;}#sk-container-id-39 input.sk-hidden--visually {border: 0;clip: rect(1px 1px 1px 1px);clip: rect(1px, 1px, 1px, 1px);height: 1px;margin: -1px;overflow: hidden;padding: 0;position: absolute;width: 1px;}#sk-container-id-39 div.sk-estimator {font-family: monospace;background-color: #f0f8ff;border: 1px dotted black;border-radius: 0.25em;box-sizing: border-box;margin-bottom: 0.5em;}#sk-container-id-39 div.sk-estimator:hover {background-color: #d4ebff;}#sk-container-id-39 div.sk-parallel-item::after {content: \"\";width: 100%;border-bottom: 1px solid gray;flex-grow: 1;}#sk-container-id-39 div.sk-label:hover label.sk-toggleable__label {background-color: #d4ebff;}#sk-container-id-39 div.sk-serial::before {content: \"\";position: absolute;border-left: 1px solid gray;box-sizing: border-box;top: 0;bottom: 0;left: 50%;z-index: 0;}#sk-container-id-39 div.sk-serial {display: flex;flex-direction: column;align-items: center;background-color: white;padding-right: 0.2em;padding-left: 0.2em;position: relative;}#sk-container-id-39 div.sk-item {position: relative;z-index: 1;}#sk-container-id-39 div.sk-parallel {display: flex;align-items: stretch;justify-content: center;background-color: white;position: relative;}#sk-container-id-39 div.sk-item::before, #sk-container-id-39 div.sk-parallel-item::before {content: \"\";position: absolute;border-left: 1px solid gray;box-sizing: border-box;top: 0;bottom: 0;left: 50%;z-index: -1;}#sk-container-id-39 div.sk-parallel-item {display: flex;flex-direction: column;z-index: 1;position: relative;background-color: white;}#sk-container-id-39 div.sk-parallel-item:first-child::after {align-self: flex-end;width: 50%;}#sk-container-id-39 div.sk-parallel-item:last-child::after {align-self: flex-start;width: 50%;}#sk-container-id-39 div.sk-parallel-item:only-child::after {width: 0;}#sk-container-id-39 div.sk-dashed-wrapped {border: 1px dashed gray;margin: 0 0.4em 0.5em 0.4em;box-sizing: border-box;padding-bottom: 0.4em;background-color: white;}#sk-container-id-39 div.sk-label label {font-family: monospace;font-weight: bold;display: inline-block;line-height: 1.2em;}#sk-container-id-39 div.sk-label-container {text-align: center;}#sk-container-id-39 div.sk-container {/* jupyter's `normalize.less` sets `[hidden] { display: none; }` but bootstrap.min.css set `[hidden] { display: none !important; }` so we also need the `!important` here to be able to override the default hidden behavior on the sphinx rendered scikit-learn.org. See: https://github.com/scikit-learn/scikit-learn/issues/21755 */display: inline-block !important;position: relative;}#sk-container-id-39 div.sk-text-repr-fallback {display: none;}</style><div id=\"sk-container-id-39\" class=\"sk-top-container\"><div class=\"sk-text-repr-fallback\"><pre>XGBClassifier(base_score=None, booster=None, callbacks=None,\n",
       "              colsample_bylevel=None, colsample_bynode=None,\n",
       "              colsample_bytree=0.7, early_stopping_rounds=None,\n",
       "              enable_categorical=False, eval_metric=None, feature_types=None,\n",
       "              gamma=None, gpu_id=None, grow_policy=None, importance_type=None,\n",
       "              interaction_constraints=None, learning_rate=0.1, max_bin=None,\n",
       "              max_cat_threshold=None, max_cat_to_onehot=None,\n",
       "              max_delta_step=None, max_depth=6, max_leaves=None,\n",
       "              min_child_weight=3, min_split_loss=1, missing=nan,\n",
       "              monotone_constraints=None, n_estimators=500, n_jobs=None,\n",
       "              num_parallel_tree=None, predictor=None, ...)</pre><b>In a Jupyter environment, please rerun this cell to show the HTML representation or trust the notebook. <br />On GitHub, the HTML representation is unable to render, please try loading this page with nbviewer.org.</b></div><div class=\"sk-container\" hidden><div class=\"sk-item\"><div class=\"sk-estimator sk-toggleable\"><input class=\"sk-toggleable__control sk-hidden--visually\" id=\"sk-estimator-id-39\" type=\"checkbox\" checked><label for=\"sk-estimator-id-39\" class=\"sk-toggleable__label sk-toggleable__label-arrow\">XGBClassifier</label><div class=\"sk-toggleable__content\"><pre>XGBClassifier(base_score=None, booster=None, callbacks=None,\n",
       "              colsample_bylevel=None, colsample_bynode=None,\n",
       "              colsample_bytree=0.7, early_stopping_rounds=None,\n",
       "              enable_categorical=False, eval_metric=None, feature_types=None,\n",
       "              gamma=None, gpu_id=None, grow_policy=None, importance_type=None,\n",
       "              interaction_constraints=None, learning_rate=0.1, max_bin=None,\n",
       "              max_cat_threshold=None, max_cat_to_onehot=None,\n",
       "              max_delta_step=None, max_depth=6, max_leaves=None,\n",
       "              min_child_weight=3, min_split_loss=1, missing=nan,\n",
       "              monotone_constraints=None, n_estimators=500, n_jobs=None,\n",
       "              num_parallel_tree=None, predictor=None, ...)</pre></div></div></div></div></div>"
      ],
      "text/plain": [
       "XGBClassifier(base_score=None, booster=None, callbacks=None,\n",
       "              colsample_bylevel=None, colsample_bynode=None,\n",
       "              colsample_bytree=0.7, early_stopping_rounds=None,\n",
       "              enable_categorical=False, eval_metric=None, feature_types=None,\n",
       "              gamma=None, gpu_id=None, grow_policy=None, importance_type=None,\n",
       "              interaction_constraints=None, learning_rate=0.1, max_bin=None,\n",
       "              max_cat_threshold=None, max_cat_to_onehot=None,\n",
       "              max_delta_step=None, max_depth=6, max_leaves=None,\n",
       "              min_child_weight=3, min_split_loss=1, missing=nan,\n",
       "              monotone_constraints=None, n_estimators=500, n_jobs=None,\n",
       "              num_parallel_tree=None, predictor=None, ...)"
      ]
     },
     "execution_count": 623,
     "metadata": {},
     "output_type": "execute_result"
    }
   ],
   "source": [
    "clf.fit(X_train, y_train, \n",
    "        eval_set=[(X_test, y_test)],   # Validation set to monitor performance\n",
    "        eval_metric='error',           # Evaluation metric to use\n",
    "        early_stopping_rounds=5,       # Number of rounds without improvement before stopping\n",
    "        verbose=True)"
   ]
  },
  {
   "cell_type": "code",
   "execution_count": 624,
   "id": "d232a889-3d6e-465a-afc7-7388df00eede",
   "metadata": {},
   "outputs": [],
   "source": [
    "# import pickle"
   ]
  },
  {
   "cell_type": "code",
   "execution_count": 625,
   "id": "680ed658-3cd6-49c3-9027-459d04131755",
   "metadata": {},
   "outputs": [],
   "source": [
    "# model_path = 'BDT_train.sav'\n",
    "\n",
    "# with open(model_path, 'rb') as model_file:\n",
    "#     model = pickle.load(model_file)"
   ]
  },
  {
   "cell_type": "code",
   "execution_count": 663,
   "id": "725e97dc",
   "metadata": {},
   "outputs": [
    {
     "data": {
      "image/png": "[encoded data removed]",
      "text/plain": [
       "<Figure size 700x600 with 1 Axes>"
      ]
     },
     "metadata": {},
     "output_type": "display_data"
    }
   ],
   "source": [
    "# Checking output responses for overfitting\n",
    "\n",
    "train_signal_probs = clf.predict_proba(X_train)[:, 1]\n",
    "test_signal_probs =clf.predict_proba(X_test)[:, 1]\n",
    "\n",
    "plt.figure(figsize=(7, 6))\n",
    "\n",
    "# Plot histograms for signal and background in training set\n",
    "#plt.subplot(1, 2, 1)\n",
    "plt.hist(train_signal_probs[y_train == 1], bins=50, alpha=0.5, label='Signal (Train)', density = True)\n",
    "plt.hist(train_signal_probs[y_train == 0], bins=50, alpha=0.5, label='Background (Train)', density = True)\n",
    "\n",
    "# plt.xlabel('Output Response of BDT')\n",
    "# plt.ylabel('Normalized')\n",
    "# plt.title('Training Set')\n",
    "# plt.legend(loc = 'upper center')\n",
    "\n",
    "countssig, edgessig = np.histogram(test_signal_probs[y_test == 1], bins=50, density = True)\n",
    "bin_centerssig = 0.5*(edgessig[1:] + edgessig[:-1])\n",
    "\n",
    "countsbkg, edgesbkg = np.histogram(test_signal_probs[y_test == 0], bins=50, density = True)\n",
    "bin_centersbkg = 0.5*(edgessig[1:] + edgessig[:-1])\n",
    "\n",
    "# Plot histograms for signal and background in testing set\n",
    "#plt.subplot(1, 2, 2)\n",
    "plt.scatter(bin_centerssig, countssig, marker = 'o', color = 'blue', label='Signal (Test)')\n",
    "plt.scatter(bin_centersbkg, countsbkg, marker = '^', color = 'red', label='Background (Test)')\n",
    "plt.xlabel('Output Response of BDT')\n",
    "plt.ylabel('Normalized Amplitude')\n",
    "#plt.title('Testing Set')\n",
    "plt.legend(loc = 'upper center')\n",
    "\n",
    "plt.tight_layout()\n",
    "plt.savefig('output_BDT')\n",
    "plt.show()"
   ]
  },
  {
   "cell_type": "code",
   "execution_count": 627,
   "id": "2708216d-fb33-4fba-9de2-e0225649d173",
   "metadata": {},
   "outputs": [
    {
     "name": "stdout",
     "output_type": "stream",
     "text": [
      "[0.9640476  0.38810217 0.6801204  ... 0.95235264 0.96939486 0.70682824]\n"
     ]
    }
   ],
   "source": [
    "print(test_signal_probs)"
   ]
  },
  {
   "cell_type": "code",
   "execution_count": 667,
   "id": "9d64f1db",
   "metadata": {},
   "outputs": [
    {
     "data": {
      "image/png": "[encoded data removed]",
      "text/plain": [
       "<Figure size 1400x600 with 2 Axes>"
      ]
     },
     "metadata": {},
     "output_type": "display_data"
    }
   ],
   "source": [
    "# Compute ROC curve\n",
    "fpr, tpr, thresholds = roc_curve(y_test, test_signal_probs)\n",
    "roc_auc = auc(fpr, tpr)\n",
    "\n",
    "# Plot ROC curve\n",
    "plt.figure(figsize=(14, 6))\n",
    "\n",
    "plt.subplot(1, 2, 1)\n",
    "plt.plot(fpr, tpr, color='blue', lw=2, label='ROC curve (AUC = {:.2f})'.format(roc_auc))\n",
    "#plt.plot([0, 1], [0, 1], color='gray', lw=2, linestyle='--')\n",
    "plt.xlim([0.0, 1.0])\n",
    "plt.ylim([0.0, 1.05])\n",
    "plt.xlabel('False Positive Rate')\n",
    "plt.ylabel('True Positive Rate')\n",
    "plt.title('ROC Curve')\n",
    "plt.legend(loc='lower right')\n",
    "\n",
    "\n",
    "# Get feature importances\n",
    "feature_importances = clf.feature_importances_\n",
    "\n",
    "# Create a DataFrame to store feature names and their importances\n",
    "feature_importance_df = pd.DataFrame({\n",
    "    'Feature': col.columns,\n",
    "    'Importance': feature_importances\n",
    "})\n",
    "\n",
    "# Sort the features by importance (descending order)\n",
    "feature_importance_df = feature_importance_df.sort_values(by='Importance', ascending=False)\n",
    "plt.subplot(1, 2, 2)\n",
    "# Plot feature importances\n",
    "plt.bar(feature_importance_df['Feature'], feature_importance_df['Importance'])\n",
    "plt.xticks(rotation=45)\n",
    "#plt.xlabel('Features')\n",
    "plt.ylabel('Importance')\n",
    "plt.title('Feature Importances')\n",
    "plt.tight_layout(pad = 2)\n",
    "plt.savefig('BDT_ROC_imp')\n",
    "plt.show()"
   ]
  },
  {
   "cell_type": "code",
   "execution_count": 629,
   "id": "c6a4d445",
   "metadata": {},
   "outputs": [
    {
     "name": "stdout",
     "output_type": "stream",
     "text": [
      "Area under the ROC curve (AUC): 0.94\n",
      "XGBoostClassifier Model Accuracy: 87.4319956691626\n"
     ]
    }
   ],
   "source": [
    "y_pred = (test_signal_probs > 0.5).astype(int)  # Convert probabilities to binary predictions (0 or 1)\n",
    "\n",
    "# Calculate accuracy score\n",
    "accuracy = np.mean(y_pred == y_test)\n",
    "\n",
    "print(\"Area under the ROC curve (AUC): {:.2f}\".format(roc_auc))\n",
    "print(\"XGBoostClassifier Model Accuracy:\", accuracy_score(y_test, y_pred)*100)"
   ]
  },
  {
   "cell_type": "code",
   "execution_count": 630,
   "id": "109ccf18",
   "metadata": {},
   "outputs": [],
   "source": [
    "import pickle\n",
    "filename = 'BDT_train.sav'\n",
    "pickle.dump(clf, open(filename, 'wb'))"
   ]
  },
  {
   "cell_type": "code",
   "execution_count": 631,
   "id": "e65efea0",
   "metadata": {},
   "outputs": [],
   "source": [
    "test_had = proton.iloc[441984:,:]"
   ]
  },
  {
   "cell_type": "code",
   "execution_count": 632,
   "id": "306bc098-4698-4aa3-87e8-e03ce46e5167",
   "metadata": {},
   "outputs": [],
   "source": [
    "test_had_features = test_had[['MSCW', 'MSCL', 'EChi2S', 'EmissionHeight', \n",
    "                  'EmissionHeightChi2', 'SizeSecondMax', \n",
    "                  'Core', 'dES']]"
   ]
  },
  {
   "cell_type": "code",
   "execution_count": 633,
   "id": "493e3a20-a867-4079-ad5a-f339937ab6cd",
   "metadata": {},
   "outputs": [
    {
     "data": {
      "text/html": [
       "<div>\n",
       "<style scoped>\n",
       "    .dataframe tbody tr th:only-of-type {\n",
       "        vertical-align: middle;\n",
       "    }\n",
       "\n",
       "    .dataframe tbody tr th {\n",
       "        vertical-align: top;\n",
       "    }\n",
       "\n",
       "    .dataframe thead th {\n",
       "        text-align: right;\n",
       "    }\n",
       "</style>\n",
       "<table border=\"1\" class=\"dataframe\">\n",
       "  <thead>\n",
       "    <tr style=\"text-align: right;\">\n",
       "      <th></th>\n",
       "      <th>MSCW</th>\n",
       "      <th>MSCL</th>\n",
       "      <th>EChi2S</th>\n",
       "      <th>EmissionHeight</th>\n",
       "      <th>EmissionHeightChi2</th>\n",
       "      <th>SizeSecondMax</th>\n",
       "      <th>Core</th>\n",
       "      <th>dES</th>\n",
       "    </tr>\n",
       "  </thead>\n",
       "  <tbody>\n",
       "    <tr>\n",
       "      <th>441984</th>\n",
       "      <td>0.232024</td>\n",
       "      <td>0.215303</td>\n",
       "      <td>0.390753</td>\n",
       "      <td>10.286369</td>\n",
       "      <td>1.000000e-10</td>\n",
       "      <td>234.068329</td>\n",
       "      <td>56.675360</td>\n",
       "      <td>1.091117</td>\n",
       "    </tr>\n",
       "    <tr>\n",
       "      <th>441985</th>\n",
       "      <td>3.206302</td>\n",
       "      <td>1.812371</td>\n",
       "      <td>0.384007</td>\n",
       "      <td>9.899564</td>\n",
       "      <td>1.000000e-10</td>\n",
       "      <td>569.614929</td>\n",
       "      <td>166.895771</td>\n",
       "      <td>0.688895</td>\n",
       "    </tr>\n",
       "    <tr>\n",
       "      <th>441986</th>\n",
       "      <td>1.376900</td>\n",
       "      <td>0.223845</td>\n",
       "      <td>0.002096</td>\n",
       "      <td>13.410931</td>\n",
       "      <td>2.812639e-01</td>\n",
       "      <td>739.014771</td>\n",
       "      <td>202.859978</td>\n",
       "      <td>0.823550</td>\n",
       "    </tr>\n",
       "    <tr>\n",
       "      <th>441987</th>\n",
       "      <td>12.044406</td>\n",
       "      <td>9.889717</td>\n",
       "      <td>5.258184</td>\n",
       "      <td>18.321714</td>\n",
       "      <td>1.000000e-10</td>\n",
       "      <td>470.084930</td>\n",
       "      <td>84.423128</td>\n",
       "      <td>0.754845</td>\n",
       "    </tr>\n",
       "    <tr>\n",
       "      <th>441988</th>\n",
       "      <td>7.123085</td>\n",
       "      <td>5.972548</td>\n",
       "      <td>0.578641</td>\n",
       "      <td>8.938263</td>\n",
       "      <td>1.193170e+00</td>\n",
       "      <td>3592.738525</td>\n",
       "      <td>125.850283</td>\n",
       "      <td>0.425151</td>\n",
       "    </tr>\n",
       "    <tr>\n",
       "      <th>...</th>\n",
       "      <td>...</td>\n",
       "      <td>...</td>\n",
       "      <td>...</td>\n",
       "      <td>...</td>\n",
       "      <td>...</td>\n",
       "      <td>...</td>\n",
       "      <td>...</td>\n",
       "      <td>...</td>\n",
       "    </tr>\n",
       "    <tr>\n",
       "      <th>1721487</th>\n",
       "      <td>10.233172</td>\n",
       "      <td>12.667301</td>\n",
       "      <td>6.614401</td>\n",
       "      <td>7.634846</td>\n",
       "      <td>1.577725e+00</td>\n",
       "      <td>2252.768066</td>\n",
       "      <td>71.699339</td>\n",
       "      <td>0.406199</td>\n",
       "    </tr>\n",
       "    <tr>\n",
       "      <th>1721488</th>\n",
       "      <td>-0.770668</td>\n",
       "      <td>1.832754</td>\n",
       "      <td>0.051678</td>\n",
       "      <td>9.352324</td>\n",
       "      <td>1.000000e-10</td>\n",
       "      <td>332.968445</td>\n",
       "      <td>131.792101</td>\n",
       "      <td>0.496277</td>\n",
       "    </tr>\n",
       "    <tr>\n",
       "      <th>1721489</th>\n",
       "      <td>2.494160</td>\n",
       "      <td>1.198183</td>\n",
       "      <td>0.012154</td>\n",
       "      <td>9.957376</td>\n",
       "      <td>1.000000e-10</td>\n",
       "      <td>1476.456543</td>\n",
       "      <td>259.954459</td>\n",
       "      <td>0.695247</td>\n",
       "    </tr>\n",
       "    <tr>\n",
       "      <th>1721490</th>\n",
       "      <td>0.072739</td>\n",
       "      <td>2.050305</td>\n",
       "      <td>0.519912</td>\n",
       "      <td>7.193672</td>\n",
       "      <td>3.890851e-01</td>\n",
       "      <td>2895.658447</td>\n",
       "      <td>284.460166</td>\n",
       "      <td>0.628460</td>\n",
       "    </tr>\n",
       "    <tr>\n",
       "      <th>1721491</th>\n",
       "      <td>3.738609</td>\n",
       "      <td>3.598385</td>\n",
       "      <td>0.039496</td>\n",
       "      <td>10.369501</td>\n",
       "      <td>1.046083e+00</td>\n",
       "      <td>4782.925293</td>\n",
       "      <td>368.999016</td>\n",
       "      <td>0.473388</td>\n",
       "    </tr>\n",
       "  </tbody>\n",
       "</table>\n",
       "<p>1279508 rows × 8 columns</p>\n",
       "</div>"
      ],
      "text/plain": [
       "              MSCW       MSCL    EChi2S  EmissionHeight  EmissionHeightChi2  \\\n",
       "441984    0.232024   0.215303  0.390753       10.286369        1.000000e-10   \n",
       "441985    3.206302   1.812371  0.384007        9.899564        1.000000e-10   \n",
       "441986    1.376900   0.223845  0.002096       13.410931        2.812639e-01   \n",
       "441987   12.044406   9.889717  5.258184       18.321714        1.000000e-10   \n",
       "441988    7.123085   5.972548  0.578641        8.938263        1.193170e+00   \n",
       "...            ...        ...       ...             ...                 ...   \n",
       "1721487  10.233172  12.667301  6.614401        7.634846        1.577725e+00   \n",
       "1721488  -0.770668   1.832754  0.051678        9.352324        1.000000e-10   \n",
       "1721489   2.494160   1.198183  0.012154        9.957376        1.000000e-10   \n",
       "1721490   0.072739   2.050305  0.519912        7.193672        3.890851e-01   \n",
       "1721491   3.738609   3.598385  0.039496       10.369501        1.046083e+00   \n",
       "\n",
       "         SizeSecondMax        Core       dES  \n",
       "441984      234.068329   56.675360  1.091117  \n",
       "441985      569.614929  166.895771  0.688895  \n",
       "441986      739.014771  202.859978  0.823550  \n",
       "441987      470.084930   84.423128  0.754845  \n",
       "441988     3592.738525  125.850283  0.425151  \n",
       "...                ...         ...       ...  \n",
       "1721487    2252.768066   71.699339  0.406199  \n",
       "1721488     332.968445  131.792101  0.496277  \n",
       "1721489    1476.456543  259.954459  0.695247  \n",
       "1721490    2895.658447  284.460166  0.628460  \n",
       "1721491    4782.925293  368.999016  0.473388  \n",
       "\n",
       "[1279508 rows x 8 columns]"
      ]
     },
     "execution_count": 633,
     "metadata": {},
     "output_type": "execute_result"
    }
   ],
   "source": [
    "test_had_features"
   ]
  },
  {
   "cell_type": "code",
   "execution_count": 634,
   "id": "d7da4586-a14b-4211-aeb2-d41d2f3fe432",
   "metadata": {},
   "outputs": [],
   "source": [
    "test_had_probs = clf.predict_proba(test_had_features)[:, 1]"
   ]
  },
  {
   "cell_type": "code",
   "execution_count": 635,
   "id": "30d9b8b5-f799-41e6-897a-025952d25837",
   "metadata": {},
   "outputs": [
    {
     "data": {
      "image/png": "[encoded data removed]",
      "text/plain": [
       "<Figure size 640x480 with 1 Axes>"
      ]
     },
     "metadata": {},
     "output_type": "display_data"
    }
   ],
   "source": [
    "plt.hist(test_had_probs, bins = 50, density=True)\n",
    "plt.show()  # rejects most hadrons but is not perfect"
   ]
  },
  {
   "cell_type": "code",
   "execution_count": null,
   "id": "ca1b8819-8b21-4a63-bb84-8b61021c9eb6",
   "metadata": {},
   "outputs": [],
   "source": [
    "fontsize = 12\n",
    "ticklen = 5\n",
    "params = {\n",
    "    'font.size': fontsize,\n",
    "    'axes.titlesize': fontsize,\n",
    "    'xtick.labelsize': fontsize,\n",
    "    'ytick.labelsize': fontsize,\n",
    "    'axes.labelsize': fontsize,\n",
    "    'legend.fontsize': fontsize,\n",
    "    'xtick.major.size' : ticklen,\n",
    "    'ytick.major.size' : ticklen,\n",
    "    'xtick.minor.size' : ticklen/2,\n",
    "    'ytick.minor.size' : ticklen/2\n",
    "}\n",
    "plt.rcParams.update(params)"
   ]
  },
  {
   "cell_type": "code",
   "execution_count": null,
   "id": "2301fef6-807d-413b-a85f-23da27f05ba4",
   "metadata": {},
   "outputs": [],
   "source": []
  },
  {
   "cell_type": "code",
   "execution_count": null,
   "id": "03f22dcc-56cc-40cd-9168-2bb4122f1add",
   "metadata": {},
   "outputs": [],
   "source": []
  }
 ],
 "metadata": {
  "kernelspec": {
   "display_name": "Python 3 (ipykernel)",
   "language": "python",
   "name": "python3"
  },
  "language_info": {
   "codemirror_mode": {
    "name": "ipython",
    "version": 3
   },
   "file_extension": ".py",
   "mimetype": "text/x-python",
   "name": "python",
   "nbconvert_exporter": "python",
   "pygments_lexer": "ipython3",
   "version": "3.10.12"
  }
 },
 "nbformat": 4,
 "nbformat_minor": 5
}
